{
  "nbformat": 4,
  "nbformat_minor": 0,
  "metadata": {
    "accelerator": "GPU",
    "colab": {
      "name": "pytorch_qual.ipynb",
      "provenance": [],
      "collapsed_sections": []
    },
    "kernelspec": {
      "display_name": "Python 3",
      "name": "python3"
    },
    "language_info": {
      "name": "python"
    }
  },
  "cells": [
    {
      "cell_type": "code",
      "metadata": {
        "id": "QJzCP1qDNC52",
        "colab": {
          "base_uri": "https://localhost:8080/"
        },
        "outputId": "70053626-1055-43be-ccf3-d861996fa020"
      },
      "source": [
        "from google.colab import drive\n",
        "drive.mount('/content/gdrive')\n",
        "gpu_info = !nvidia-smi\n",
        "gpu_info = '\\n'.join(gpu_info)\n",
        "if gpu_info.find('failed') >= 0:\n",
        "  print('Select the Runtime > \"Change runtime type\" menu to enable a GPU accelerator, ')\n",
        "  print('and then re-execute this cell.')\n",
        "else:\n",
        "  print(gpu_info)"
      ],
      "execution_count": null,
      "outputs": [
        {
          "output_type": "stream",
          "text": [
            "Drive already mounted at /content/gdrive; to attempt to forcibly remount, call drive.mount(\"/content/gdrive\", force_remount=True).\n",
            "Mon May 10 06:40:02 2021       \n",
            "+-----------------------------------------------------------------------------+\n",
            "| NVIDIA-SMI 465.19.01    Driver Version: 460.32.03    CUDA Version: 11.2     |\n",
            "|-------------------------------+----------------------+----------------------+\n",
            "| GPU  Name        Persistence-M| Bus-Id        Disp.A | Volatile Uncorr. ECC |\n",
            "| Fan  Temp  Perf  Pwr:Usage/Cap|         Memory-Usage | GPU-Util  Compute M. |\n",
            "|                               |                      |               MIG M. |\n",
            "|===============================+======================+======================|\n",
            "|   0  Tesla K80           Off  | 00000000:00:04.0 Off |                    0 |\n",
            "| N/A   50C    P8    27W / 149W |      0MiB / 11441MiB |      0%      Default |\n",
            "|                               |                      |                  N/A |\n",
            "+-------------------------------+----------------------+----------------------+\n",
            "                                                                               \n",
            "+-----------------------------------------------------------------------------+\n",
            "| Processes:                                                                  |\n",
            "|  GPU   GI   CI        PID   Type   Process name                  GPU Memory |\n",
            "|        ID   ID                                                   Usage      |\n",
            "|=============================================================================|\n",
            "|  No running processes found                                                 |\n",
            "+-----------------------------------------------------------------------------+\n"
          ],
          "name": "stdout"
        }
      ]
    },
    {
      "cell_type": "code",
      "metadata": {
        "colab": {
          "base_uri": "https://localhost:8080/"
        },
        "id": "3eXcJoNqNH_m",
        "outputId": "fd70ea7a-6853-4fd6-e3ac-e5b9695ba033"
      },
      "source": [
        "%cd gdrive/My\\ Drive/Qual/pytorch\n",
        "!pwd"
      ],
      "execution_count": null,
      "outputs": [
        {
          "output_type": "stream",
          "text": [
            "/content/gdrive/My Drive/Qual/pytorch\n",
            "/content/gdrive/My Drive/Qual/pytorch\n"
          ],
          "name": "stdout"
        }
      ]
    },
    {
      "cell_type": "code",
      "metadata": {
        "id": "_Zj94ZTuObB6",
        "colab": {
          "base_uri": "https://localhost:8080/"
        },
        "outputId": "1c8441d6-cc5e-431d-d93e-2d5a4f9bdb15"
      },
      "source": [
        "!python3 main.py --source_domain SVHN --target_domain USPS  --save_dir ./SVHN_USPS  --max_epoch 30"
      ],
      "execution_count": null,
      "outputs": [
        {
          "output_type": "stream",
          "text": [
            "Using downloaded and verified file: ./data/SVHN/train_32x32.mat\n",
            "Using downloaded and verified file: ./data/SVHN/extra_32x32.mat\n",
            "tcmalloc: large alloc 1631641600 bytes == 0x5565d5c46000 @  0x7f5623e651e7 0x5565c25f2e68 0x5565c25bd637 0x7f55a5fd33fa 0x7f55a61f6973 0x7f55a61fb0bd 0x7f55a61fe8ee 0x7f55a62065c0 0x7f55a61f85f5 0x5565c25c0cc0 0x5565c26b1fed 0x5565c2634988 0x5565c262f4ae 0x5565c25c23ea 0x5565c263060e 0x5565c262f4ae 0x5565c25c23ea 0x5565c263060e 0x5565c262f4ae 0x5565c25c23ea 0x5565c26347f0 0x5565c262f7ad 0x5565c25c2c9f 0x5565c2603d79 0x5565c2600cc4 0x5565c25c1559 0x5565c26354f8 0x5565c25c230a 0x5565c26347f0 0x5565c25c230a 0x5565c26303b5\n",
            "Using downloaded and verified file: ./data/SVHN/test_32x32.mat\n",
            "Epoch: 0\n",
            "\n",
            "Source Accuracy: 44867.0/604388 (7.4235%)\n",
            "Target Accuracy: 573.0/7291 (7.8590%)\n",
            "Domain Accuracy: 10974.0/611679 (1.7941%)\n",
            "\n",
            "Epoch: 1\n",
            "\n",
            "Source Accuracy: 103747.0/604388 (17.1656%)\n",
            "Target Accuracy: 1000.0/7291 (13.7155%)\n",
            "Domain Accuracy: 72011.0/611679 (11.7727%)\n",
            "\n",
            "Epoch: 2\n",
            "\n",
            "Source Accuracy: 104355.0/604388 (17.2662%)\n",
            "Target Accuracy: 1005.0/7291 (13.7841%)\n",
            "Domain Accuracy: 161579.0/611679 (26.4157%)\n",
            "\n",
            "Epoch: 3\n",
            "\n",
            "Source Accuracy: 104370.0/604388 (17.2687%)\n",
            "Target Accuracy: 1005.0/7291 (13.7841%)\n",
            "Domain Accuracy: 459197.0/611679 (75.0716%)\n",
            "\n",
            "Epoch: 4\n",
            "\n",
            "Source Accuracy: 104085.0/604388 (17.2216%)\n",
            "Target Accuracy: 1005.0/7291 (13.7841%)\n",
            "Domain Accuracy: 476434.0/611679 (77.8895%)\n",
            "\n",
            "Epoch: 5\n",
            "\n",
            "Source Accuracy: 103602.0/604388 (17.1416%)\n",
            "Target Accuracy: 1005.0/7291 (13.7841%)\n",
            "Domain Accuracy: 604388.0/611679 (98.8080%)\n",
            "\n",
            "Epoch: 6\n",
            "\n",
            "Source Accuracy: 103820.0/604388 (17.1777%)\n",
            "Target Accuracy: 1005.0/7291 (13.7841%)\n",
            "Domain Accuracy: 592966.0/611679 (96.9407%)\n",
            "\n",
            "Epoch: 7\n",
            "\n",
            "Source Accuracy: 104119.0/604388 (17.2272%)\n",
            "Target Accuracy: 1005.0/7291 (13.7841%)\n",
            "Domain Accuracy: 495382.0/611679 (80.9872%)\n",
            "\n",
            "Epoch: 8\n",
            "\n",
            "Source Accuracy: 104333.0/604388 (17.2626%)\n",
            "Target Accuracy: 1005.0/7291 (13.7841%)\n",
            "Domain Accuracy: 606120.0/611679 (99.0912%)\n",
            "\n",
            "Epoch: 9\n",
            "\n",
            "Source Accuracy: 104356.0/604388 (17.2664%)\n",
            "Target Accuracy: 1005.0/7291 (13.7841%)\n",
            "Domain Accuracy: 584908.0/611679 (95.6234%)\n",
            "\n",
            "Epoch: 10\n",
            "\n",
            "Source Accuracy: 104414.0/604388 (17.2760%)\n",
            "Target Accuracy: 1005.0/7291 (13.7841%)\n",
            "Domain Accuracy: 591896.0/611679 (96.7658%)\n",
            "\n",
            "Epoch: 11\n",
            "\n",
            "Source Accuracy: 104420.0/604388 (17.2770%)\n",
            "Target Accuracy: 1005.0/7291 (13.7841%)\n",
            "Domain Accuracy: 264123.0/611679 (43.1800%)\n",
            "\n",
            "Epoch: 12\n",
            "\n",
            "Source Accuracy: 104409.0/604388 (17.2752%)\n",
            "Target Accuracy: 1000.0/7291 (13.7155%)\n",
            "Domain Accuracy: 13300.0/611679 (2.1743%)\n",
            "\n",
            "Epoch: 13\n",
            "\n",
            "Source Accuracy: 103374.0/604388 (17.1039%)\n",
            "Target Accuracy: 1017.0/7291 (13.9487%)\n",
            "Domain Accuracy: 223790.0/611679 (36.5862%)\n",
            "\n",
            "Epoch: 14\n",
            "\n",
            "Source Accuracy: 91382.0/604388 (15.1198%)\n",
            "Target Accuracy: 796.0/7291 (10.9176%)\n",
            "Domain Accuracy: 190955.0/611679 (31.2182%)\n",
            "\n",
            "Epoch: 15\n",
            "\n",
            "Source Accuracy: 100794.0/604388 (16.6770%)\n",
            "Target Accuracy: 842.0/7291 (11.5485%)\n",
            "Domain Accuracy: 473068.0/611679 (77.3393%)\n",
            "\n",
            "Epoch: 16\n",
            "\n",
            "Source Accuracy: 103362.0/604388 (17.1019%)\n",
            "Target Accuracy: 859.0/7291 (11.7816%)\n",
            "Domain Accuracy: 507479.0/611679 (82.9649%)\n",
            "\n",
            "Epoch: 17\n",
            "\n",
            "Source Accuracy: 103922.0/604388 (17.1946%)\n",
            "Target Accuracy: 895.0/7291 (12.2754%)\n",
            "Domain Accuracy: 289499.0/611679 (47.3286%)\n",
            "\n",
            "Epoch: 18\n",
            "\n",
            "Source Accuracy: 104431.0/604388 (17.2788%)\n",
            "Target Accuracy: 998.0/7291 (13.6881%)\n",
            "Domain Accuracy: 600014.0/611679 (98.0930%)\n",
            "\n",
            "Epoch: 19\n",
            "\n",
            "Source Accuracy: 104474.0/604388 (17.2859%)\n",
            "Target Accuracy: 1005.0/7291 (13.7841%)\n",
            "Domain Accuracy: 536041.0/611679 (87.6344%)\n",
            "\n",
            "Epoch: 20\n",
            "\n",
            "Source Accuracy: 104464.0/604388 (17.2843%)\n",
            "Target Accuracy: 1005.0/7291 (13.7841%)\n",
            "Domain Accuracy: 545561.0/611679 (89.1907%)\n",
            "\n",
            "Epoch: 21\n",
            "\n",
            "Source Accuracy: 104491.0/604388 (17.2887%)\n",
            "Target Accuracy: 1005.0/7291 (13.7841%)\n",
            "Domain Accuracy: 546472.0/611679 (89.3397%)\n",
            "\n",
            "Epoch: 22\n",
            "\n",
            "Source Accuracy: 104484.0/604388 (17.2876%)\n",
            "Target Accuracy: 1005.0/7291 (13.7841%)\n",
            "Domain Accuracy: 578961.0/611679 (94.6511%)\n",
            "\n",
            "Epoch: 23\n",
            "\n",
            "Source Accuracy: 104457.0/604388 (17.2831%)\n",
            "Target Accuracy: 1005.0/7291 (13.7841%)\n",
            "Domain Accuracy: 592410.0/611679 (96.8498%)\n",
            "\n",
            "Epoch: 24\n",
            "\n",
            "Source Accuracy: 104498.0/604388 (17.2899%)\n",
            "Target Accuracy: 1005.0/7291 (13.7841%)\n",
            "Domain Accuracy: 596552.0/611679 (97.5270%)\n",
            "\n",
            "Epoch: 25\n",
            "\n",
            "Source Accuracy: 104598.0/604388 (17.3064%)\n",
            "Target Accuracy: 1005.0/7291 (13.7841%)\n",
            "Domain Accuracy: 587348.0/611679 (96.0223%)\n",
            "\n",
            "Epoch: 26\n",
            "\n",
            "Source Accuracy: 104534.0/604388 (17.2958%)\n",
            "Target Accuracy: 1005.0/7291 (13.7841%)\n",
            "Domain Accuracy: 600091.0/611679 (98.1055%)\n",
            "\n",
            "Epoch: 27\n",
            "\n",
            "Source Accuracy: 104529.0/604388 (17.2950%)\n",
            "Target Accuracy: 1005.0/7291 (13.7841%)\n",
            "Domain Accuracy: 599138.0/611679 (97.9497%)\n",
            "\n",
            "Epoch: 28\n",
            "\n",
            "Source Accuracy: 104669.0/604388 (17.3182%)\n",
            "Target Accuracy: 1005.0/7291 (13.7841%)\n",
            "Domain Accuracy: 598588.0/611679 (97.8598%)\n",
            "\n",
            "Epoch: 29\n",
            "\n",
            "Source Accuracy: 104509.0/604388 (17.2917%)\n",
            "Target Accuracy: 1030.0/7291 (14.1270%)\n",
            "Domain Accuracy: 582991.0/611679 (95.3100%)\n",
            "\n",
            "Finished Processing to  ./SVHN_USPS\n"
          ],
          "name": "stdout"
        }
      ]
    },
    {
      "cell_type": "code",
      "metadata": {
        "colab": {
          "base_uri": "https://localhost:8080/",
          "height": 303
        },
        "id": "kKIjhOG74ti2",
        "outputId": "0dcb5bae-bf0a-4f4d-e587-2179ab642879"
      },
      "source": [
        "### USPS Dataset Visualization\n",
        "import torch\n",
        "from torch.utils.data import DataLoader\n",
        "from torchvision import datasets, transforms\n",
        "from train import params\n",
        "\n",
        "import matplotlib.pyplot as plt\n",
        "import numpy as np\n",
        "\n",
        "transform = transforms.Compose([\n",
        "    transforms.Pad(6),\n",
        "    transforms.ToTensor(),\n",
        "    transforms.Normalize(mean= params.dataset_mean[0], std= params.dataset_std[0])\n",
        "])   # pad 6 on all borders 16x16 --> 28x28\n",
        "\n",
        "data = datasets.USPS(root= params.mnist_path, train= True, transform= transform,\n",
        "                      download= True)\n",
        "\n",
        "dataloader = DataLoader(dataset= data, batch_size= params.batch_size, shuffle= True)\n",
        "\n",
        "%matplotlib inline\n",
        "# plot the images in the batch, along with the corresponding labels\n",
        "fig = plt.figure(figsize=(25, 4))\n",
        "# display 20 images\n",
        "for idx in np.arange(10):\n",
        "    ax = fig.add_subplot(2, 20/2, idx+1, xticks=[], yticks=[])\n",
        "    dataiter = iter(dataloader)\n",
        "    images, labels = dataiter.next()\n",
        "    images = images.numpy() # convert images to numpy for display\n",
        "    plt.imshow(images[0][0],cmap=plt.cm.gray)\n",
        "    print(labels[0])"
      ],
      "execution_count": null,
      "outputs": [
        {
          "output_type": "stream",
          "text": [
            "tensor(0)\n",
            "tensor(0)\n",
            "tensor(2)\n",
            "tensor(6)\n",
            "tensor(6)\n",
            "tensor(2)\n",
            "tensor(1)\n",
            "tensor(8)\n",
            "tensor(6)\n",
            "tensor(0)\n"
          ],
          "name": "stdout"
        },
        {
          "output_type": "display_data",
          "data": {
            "image/png": "[encoded data removed]",
            "text/plain": [
              "<Figure size 1800x288 with 10 Axes>"
            ]
          },
          "metadata": {
            "tags": []
          }
        }
      ]
    },
    {
      "cell_type": "code",
      "metadata": {
        "id": "hUitP-jb8Ytj",
        "colab": {
          "base_uri": "https://localhost:8080/",
          "height": 1000
        },
        "outputId": "10814e20-4147-461b-ae3e-529f0a00c8ed"
      },
      "source": [
        "%matplotlib inline\n",
        "dataiter = iter(dataloader)\n",
        "images, labels = dataiter.next()\n",
        "plt.imshow(images[0][0].numpy())\n",
        "plt.show()\n",
        "print(np.min(images[0][0].numpy()),np.max(images[0][0].numpy()), labels[0], images[0][0].numpy().shape, images[0][0],) "
      ],
      "execution_count": null,
      "outputs": [
        {
          "output_type": "display_data",
          "data": {
            "image/png": "[encoded data removed]",
            "text/plain": [
              "<Figure size 432x288 with 1 Axes>"
            ]
          },
          "metadata": {
            "tags": [],
            "needs_background": "light"
          }
        },
        {
          "output_type": "stream",
          "text": [
            "-1.0 0.7647059 tensor(5) (28, 28) tensor([[-1.0000, -1.0000, -1.0000, -1.0000, -1.0000, -1.0000, -1.0000, -1.0000,\n",
            "         -1.0000, -1.0000, -1.0000, -1.0000, -1.0000, -1.0000, -1.0000, -1.0000,\n",
            "         -1.0000, -1.0000, -1.0000, -1.0000, -1.0000, -1.0000, -1.0000, -1.0000,\n",
            "         -1.0000, -1.0000, -1.0000, -1.0000],\n",
            "        [-1.0000, -1.0000, -1.0000, -1.0000, -1.0000, -1.0000, -1.0000, -1.0000,\n",
            "         -1.0000, -1.0000, -1.0000, -1.0000, -1.0000, -1.0000, -1.0000, -1.0000,\n",
            "         -1.0000, -1.0000, -1.0000, -1.0000, -1.0000, -1.0000, -1.0000, -1.0000,\n",
            "         -1.0000, -1.0000, -1.0000, -1.0000],\n",
            "        [-1.0000, -1.0000, -1.0000, -1.0000, -1.0000, -1.0000, -1.0000, -1.0000,\n",
            "         -1.0000, -1.0000, -1.0000, -1.0000, -1.0000, -1.0000, -1.0000, -1.0000,\n",
            "         -1.0000, -1.0000, -1.0000, -1.0000, -1.0000, -1.0000, -1.0000, -1.0000,\n",
            "         -1.0000, -1.0000, -1.0000, -1.0000],\n",
            "        [-1.0000, -1.0000, -1.0000, -1.0000, -1.0000, -1.0000, -1.0000, -1.0000,\n",
            "         -1.0000, -1.0000, -1.0000, -1.0000, -1.0000, -1.0000, -1.0000, -1.0000,\n",
            "         -1.0000, -1.0000, -1.0000, -1.0000, -1.0000, -1.0000, -1.0000, -1.0000,\n",
            "         -1.0000, -1.0000, -1.0000, -1.0000],\n",
            "        [-1.0000, -1.0000, -1.0000, -1.0000, -1.0000, -1.0000, -1.0000, -1.0000,\n",
            "         -1.0000, -1.0000, -1.0000, -1.0000, -1.0000, -1.0000, -1.0000, -1.0000,\n",
            "         -1.0000, -1.0000, -1.0000, -1.0000, -1.0000, -1.0000, -1.0000, -1.0000,\n",
            "         -1.0000, -1.0000, -1.0000, -1.0000],\n",
            "        [-1.0000, -1.0000, -1.0000, -1.0000, -1.0000, -1.0000, -1.0000, -1.0000,\n",
            "         -1.0000, -1.0000, -1.0000, -1.0000, -1.0000, -1.0000, -1.0000, -1.0000,\n",
            "         -1.0000, -1.0000, -1.0000, -1.0000, -1.0000, -1.0000, -1.0000, -1.0000,\n",
            "         -1.0000, -1.0000, -1.0000, -1.0000],\n",
            "        [-1.0000, -1.0000, -1.0000, -1.0000, -1.0000, -1.0000, -1.0000, -1.0000,\n",
            "         -0.9843, -0.9137, -0.6784, -0.3647, -0.1294,  0.0824,  0.1922,  0.3176,\n",
            "          0.3882,  0.2706,  0.1843,  0.1608,  0.0745, -0.3020, -1.0000, -1.0000,\n",
            "         -1.0000, -1.0000, -1.0000, -1.0000],\n",
            "        [-1.0000, -1.0000, -1.0000, -1.0000, -1.0000, -1.0000, -0.9922, -0.9373,\n",
            "         -0.8039, -0.5216,  0.0118,  0.4431,  0.5451,  0.5294,  0.4980,  0.5294,\n",
            "          0.5529,  0.5059,  0.4745,  0.4824,  0.4275, -0.0353, -1.0000, -1.0000,\n",
            "         -1.0000, -1.0000, -1.0000, -1.0000],\n",
            "        [-1.0000, -1.0000, -1.0000, -1.0000, -1.0000, -1.0000, -0.8902, -0.5843,\n",
            "         -0.1843,  0.2078,  0.5137,  0.5373,  0.2627, -0.0353, -0.2314, -0.2863,\n",
            "         -0.2863, -0.2863, -0.2863, -0.2235, -0.1373, -0.3725, -1.0000, -1.0000,\n",
            "         -1.0000, -1.0000, -1.0000, -1.0000],\n",
            "        [-1.0000, -1.0000, -1.0000, -1.0000, -1.0000, -1.0000, -0.6157,  0.0980,\n",
            "          0.5373,  0.5137,  0.2157, -0.1686, -0.5373, -0.7490, -0.8431, -0.8667,\n",
            "         -0.8667, -0.8667, -0.8667, -0.8431, -0.7882, -0.8431, -1.0000, -1.0000,\n",
            "         -1.0000, -1.0000, -1.0000, -1.0000],\n",
            "        [-1.0000, -1.0000, -1.0000, -1.0000, -1.0000, -1.0000, -0.3804,  0.4980,\n",
            "          0.7647,  0.3647, -0.2157, -0.6314, -0.8745, -0.9686, -0.9922, -0.9922,\n",
            "         -1.0000, -1.0000, -1.0000, -0.9922, -0.9922, -0.9922, -1.0000, -1.0000,\n",
            "         -1.0000, -1.0000, -1.0000, -1.0000],\n",
            "        [-1.0000, -1.0000, -1.0000, -1.0000, -1.0000, -1.0000, -0.4667,  0.3490,\n",
            "          0.7333,  0.6235,  0.2549, -0.1843, -0.5529, -0.8118, -0.9451, -0.9922,\n",
            "         -1.0000, -1.0000, -1.0000, -1.0000, -1.0000, -1.0000, -1.0000, -1.0000,\n",
            "         -1.0000, -1.0000, -1.0000, -1.0000],\n",
            "        [-1.0000, -1.0000, -1.0000, -1.0000, -1.0000, -1.0000, -0.7804, -0.2941,\n",
            "          0.1922,  0.4588,  0.5137,  0.4667,  0.2471, -0.2000, -0.6000, -0.8118,\n",
            "         -0.9294, -0.9843, -1.0000, -1.0000, -1.0000, -1.0000, -1.0000, -1.0000,\n",
            "         -1.0000, -1.0000, -1.0000, -1.0000],\n",
            "        [-1.0000, -1.0000, -1.0000, -1.0000, -1.0000, -1.0000, -0.9529, -0.8275,\n",
            "         -0.6471, -0.4510, -0.1608,  0.1529,  0.3333,  0.2549,  0.0275, -0.2000,\n",
            "         -0.4824, -0.7490, -0.9294, -0.9922, -1.0000, -1.0000, -1.0000, -1.0000,\n",
            "         -1.0000, -1.0000, -1.0000, -1.0000],\n",
            "        [-1.0000, -1.0000, -1.0000, -1.0000, -1.0000, -1.0000, -0.8667, -0.7882,\n",
            "         -0.8824, -0.9137, -0.8118, -0.6706, -0.5137, -0.2941, -0.0118,  0.2863,\n",
            "          0.3098, -0.0824, -0.5686, -0.8824, -0.9922, -1.0000, -1.0000, -1.0000,\n",
            "         -1.0000, -1.0000, -1.0000, -1.0000],\n",
            "        [-1.0000, -1.0000, -1.0000, -1.0000, -1.0000, -1.0000, -0.4431, -0.2471,\n",
            "         -0.6863, -0.9608, -0.9922, -0.9843, -0.9451, -0.8510, -0.6157, -0.1529,\n",
            "          0.3176,  0.4353,  0.1059, -0.5216, -0.9059, -1.0000, -1.0000, -1.0000,\n",
            "         -1.0000, -1.0000, -1.0000, -1.0000],\n",
            "        [-1.0000, -1.0000, -1.0000, -1.0000, -1.0000, -1.0000, -0.0039,  0.2000,\n",
            "         -0.5137, -0.9294, -1.0000, -1.0000, -1.0000, -0.9922, -0.9451, -0.7569,\n",
            "         -0.3804,  0.1608,  0.4510,  0.0118, -0.6706, -0.9608, -1.0000, -1.0000,\n",
            "         -1.0000, -1.0000, -1.0000, -1.0000],\n",
            "        [-1.0000, -1.0000, -1.0000, -1.0000, -1.0000, -1.0000,  0.0196,  0.3725,\n",
            "         -0.2078, -0.7333, -0.9451, -0.9922, -1.0000, -1.0000, -1.0000, -0.9686,\n",
            "         -0.8510, -0.4118,  0.3176,  0.3961, -0.3490, -0.8824, -1.0000, -1.0000,\n",
            "         -1.0000, -1.0000, -1.0000, -1.0000],\n",
            "        [-1.0000, -1.0000, -1.0000, -1.0000, -1.0000, -1.0000, -0.3490,  0.2549,\n",
            "          0.2941, -0.1529, -0.6078, -0.8667, -0.9373, -0.9137, -0.9294, -0.9451,\n",
            "         -0.8667, -0.5373,  0.2000,  0.5059, -0.1529, -0.8118, -1.0000, -1.0000,\n",
            "         -1.0000, -1.0000, -1.0000, -1.0000],\n",
            "        [-1.0000, -1.0000, -1.0000, -1.0000, -1.0000, -1.0000, -0.7725, -0.2863,\n",
            "          0.2863,  0.4431,  0.1216, -0.3176, -0.4824, -0.4118, -0.4588, -0.4902,\n",
            "         -0.3490, -0.0118,  0.4824,  0.5294, -0.1843, -0.8196, -1.0000, -1.0000,\n",
            "         -1.0000, -1.0000, -1.0000, -1.0000],\n",
            "        [-1.0000, -1.0000, -1.0000, -1.0000, -1.0000, -1.0000, -0.9686, -0.7804,\n",
            "         -0.3098,  0.2392,  0.4196,  0.3569,  0.3255,  0.3882,  0.4039,  0.4353,\n",
            "          0.5373,  0.6392,  0.6157,  0.2078, -0.5137, -0.9137, -1.0000, -1.0000,\n",
            "         -1.0000, -1.0000, -1.0000, -1.0000],\n",
            "        [-1.0000, -1.0000, -1.0000, -1.0000, -1.0000, -1.0000, -1.0000, -0.9686,\n",
            "         -0.8353, -0.5529, -0.2549, -0.0039,  0.1137,  0.1686,  0.2627,  0.4118,\n",
            "          0.4745,  0.4039,  0.0667, -0.4588, -0.8510, -0.9843, -1.0000, -1.0000,\n",
            "         -1.0000, -1.0000, -1.0000, -1.0000],\n",
            "        [-1.0000, -1.0000, -1.0000, -1.0000, -1.0000, -1.0000, -1.0000, -1.0000,\n",
            "         -1.0000, -1.0000, -1.0000, -1.0000, -1.0000, -1.0000, -1.0000, -1.0000,\n",
            "         -1.0000, -1.0000, -1.0000, -1.0000, -1.0000, -1.0000, -1.0000, -1.0000,\n",
            "         -1.0000, -1.0000, -1.0000, -1.0000],\n",
            "        [-1.0000, -1.0000, -1.0000, -1.0000, -1.0000, -1.0000, -1.0000, -1.0000,\n",
            "         -1.0000, -1.0000, -1.0000, -1.0000, -1.0000, -1.0000, -1.0000, -1.0000,\n",
            "         -1.0000, -1.0000, -1.0000, -1.0000, -1.0000, -1.0000, -1.0000, -1.0000,\n",
            "         -1.0000, -1.0000, -1.0000, -1.0000],\n",
            "        [-1.0000, -1.0000, -1.0000, -1.0000, -1.0000, -1.0000, -1.0000, -1.0000,\n",
            "         -1.0000, -1.0000, -1.0000, -1.0000, -1.0000, -1.0000, -1.0000, -1.0000,\n",
            "         -1.0000, -1.0000, -1.0000, -1.0000, -1.0000, -1.0000, -1.0000, -1.0000,\n",
            "         -1.0000, -1.0000, -1.0000, -1.0000],\n",
            "        [-1.0000, -1.0000, -1.0000, -1.0000, -1.0000, -1.0000, -1.0000, -1.0000,\n",
            "         -1.0000, -1.0000, -1.0000, -1.0000, -1.0000, -1.0000, -1.0000, -1.0000,\n",
            "         -1.0000, -1.0000, -1.0000, -1.0000, -1.0000, -1.0000, -1.0000, -1.0000,\n",
            "         -1.0000, -1.0000, -1.0000, -1.0000],\n",
            "        [-1.0000, -1.0000, -1.0000, -1.0000, -1.0000, -1.0000, -1.0000, -1.0000,\n",
            "         -1.0000, -1.0000, -1.0000, -1.0000, -1.0000, -1.0000, -1.0000, -1.0000,\n",
            "         -1.0000, -1.0000, -1.0000, -1.0000, -1.0000, -1.0000, -1.0000, -1.0000,\n",
            "         -1.0000, -1.0000, -1.0000, -1.0000],\n",
            "        [-1.0000, -1.0000, -1.0000, -1.0000, -1.0000, -1.0000, -1.0000, -1.0000,\n",
            "         -1.0000, -1.0000, -1.0000, -1.0000, -1.0000, -1.0000, -1.0000, -1.0000,\n",
            "         -1.0000, -1.0000, -1.0000, -1.0000, -1.0000, -1.0000, -1.0000, -1.0000,\n",
            "         -1.0000, -1.0000, -1.0000, -1.0000]])\n"
          ],
          "name": "stdout"
        }
      ]
    },
    {
      "cell_type": "code",
      "metadata": {
        "colab": {
          "base_uri": "https://localhost:8080/"
        },
        "id": "ZuvYJ75YjB3Z",
        "outputId": "941a48c6-9bde-4ed5-f6ed-591760d7f2f3"
      },
      "source": [
        "import torch\n",
        "import torch.nn as nn\n",
        "import torch.nn.functional as F\n",
        "from torchsummary import summary\n",
        "\n",
        "\n",
        "# Model\n",
        "class CNN(nn.Module):\n",
        "    def __init__(self):\n",
        "        super(CNN, self).__init__()\n",
        "        self.conv1 = nn.Conv2d(3, 32, kernel_size=5)\n",
        "        self.conv2 = nn.Conv2d(32, 48, kernel_size=5)\n",
        "        # self.conv1 = nn.Conv2d(3, 64, kernel_size= 5)\n",
        "        # self.bn1 = nn.BatchNorm2d(64)\n",
        "        # self.conv2 = nn.Conv2d(64, 50, kernel_size= 5)\n",
        "        # self.bn2 = nn.BatchNorm2d(50)\n",
        "        self.conv2_drop = nn.Dropout2d()\n",
        "\n",
        "    def forward(self, input):\n",
        "        input = input.expand(input.data.shape[0], 3, 28, 28)\n",
        "        # x = F.relu(F.max_pool2d(self.bn1(self.conv1(input)), 2))\n",
        "        # x = F.relu(F.max_pool2d(self.conv2_drop(self.bn2(self.conv2(x))), 2))\n",
        "        # x = x.view(-1, 50 * 4 * 4)\n",
        "        x = F.relu(F.max_pool2d(self.conv1(input), 2))\n",
        "        x = F.relu(F.max_pool2d(self.conv2_drop(self.conv2(x)), 2))\n",
        "        x = x.view(-1, 48 * 4 * 4)\n",
        "\n",
        "        return x\n",
        "cnn = CNN().cuda()\n",
        "summary(cnn, (1, 28, 28))"
      ],
      "execution_count": null,
      "outputs": [
        {
          "output_type": "stream",
          "text": [
            "----------------------------------------------------------------\n",
            "        Layer (type)               Output Shape         Param #\n",
            "================================================================\n",
            "            Conv2d-1           [-1, 32, 24, 24]           2,432\n",
            "            Conv2d-2             [-1, 48, 8, 8]          38,448\n",
            "         Dropout2d-3             [-1, 48, 8, 8]               0\n",
            "================================================================\n",
            "Total params: 40,880\n",
            "Trainable params: 40,880\n",
            "Non-trainable params: 0\n",
            "----------------------------------------------------------------\n",
            "Input size (MB): 0.00\n",
            "Forward/backward pass size (MB): 0.19\n",
            "Params size (MB): 0.16\n",
            "Estimated Total Size (MB): 0.35\n",
            "----------------------------------------------------------------\n"
          ],
          "name": "stdout"
        }
      ]
    },
    {
      "cell_type": "code",
      "metadata": {
        "id": "q0B7pzg1jhp6",
        "colab": {
          "base_uri": "https://localhost:8080/"
        },
        "outputId": "018a42a4-2395-4dff-f498-7647a366747f"
      },
      "source": [
        "t = torch.rand(4, 4)\n",
        "t.view(-1,16)"
      ],
      "execution_count": null,
      "outputs": [
        {
          "output_type": "execute_result",
          "data": {
            "text/plain": [
              "tensor([[0.0219, 0.6614, 0.7018, 0.8005, 0.0654, 0.5898, 0.5992, 0.4116, 0.4492,\n",
              "         0.9272, 0.3334, 0.8276, 0.1838, 0.7555, 0.7390, 0.5192]])"
            ]
          },
          "metadata": {
            "tags": []
          },
          "execution_count": 18
        }
      ]
    },
    {
      "cell_type": "code",
      "metadata": {
        "id": "Lqvx7j8EV-G-"
      },
      "source": [
        ""
      ],
      "execution_count": null,
      "outputs": []
    }
  ]
}